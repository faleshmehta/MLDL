{
 "cells": [
  {
   "cell_type": "code",
   "execution_count": 1,
   "metadata": {},
   "outputs": [],
   "source": [
    "import numpy as np"
   ]
  },
  {
   "cell_type": "code",
   "execution_count": 2,
   "metadata": {},
   "outputs": [],
   "source": [
    "#         Write a function so that the columns of the output matrix are powers of the input vector. \n",
    "\n",
    "#         The order of the powers is determined by the increasing boolean argument. Specifically, \n",
    "#         when  increasing is False, the i-th output column is the input vector raised element-wise to the power  of N - i - 1.\n",
    "\n",
    "#         HINT: Such a matrix with a geometric progression in each row is named for Alexandre Theophile Vandermonde. "
   ]
  },
  {
   "cell_type": "code",
   "execution_count": 3,
   "metadata": {},
   "outputs": [],
   "source": [
    "def Alex_Theo(a,N):\n",
    "    '''give a list and number of columns\n",
    "        returns a Alexandre Theophile Vandermonde matrix\n",
    "    '''\n",
    "    a = np.array(a)\n",
    "    return np.column_stack([a**(N-(N-i)) for i in range(N)])"
   ]
  },
  {
   "cell_type": "code",
   "execution_count": 4,
   "metadata": {},
   "outputs": [
    {
     "data": {
      "text/plain": [
       "array([[ 1,  1,  1],\n",
       "       [ 1,  3,  9],\n",
       "       [ 1,  5, 25],\n",
       "       [ 1,  7, 49]], dtype=int32)"
      ]
     },
     "execution_count": 4,
     "metadata": {},
     "output_type": "execute_result"
    }
   ],
   "source": [
    "Alex_Theo([1,3,5,7],3)"
   ]
  },
  {
   "cell_type": "code",
   "execution_count": 5,
   "metadata": {},
   "outputs": [
    {
     "data": {
      "text/plain": [
       "array([[   1,    2,    4,    8,   16],\n",
       "       [   1,    5,   25,  125,  625],\n",
       "       [   1,    3,    9,   27,   81],\n",
       "       [   1,    7,   49,  343, 2401],\n",
       "       [   1,    9,   81,  729, 6561],\n",
       "       [   1,    4,   16,   64,  256]], dtype=int32)"
      ]
     },
     "execution_count": 5,
     "metadata": {},
     "output_type": "execute_result"
    }
   ],
   "source": [
    "Alex_Theo([2,5,3,7,9,4],5)"
   ]
  },
  {
   "cell_type": "code",
   "execution_count": 6,
   "metadata": {},
   "outputs": [],
   "source": [
    "m = np.arange(1,5).reshape(4,1)"
   ]
  },
  {
   "cell_type": "code",
   "execution_count": 7,
   "metadata": {},
   "outputs": [
    {
     "data": {
      "text/plain": [
       "array([[ 1,  1,  1],\n",
       "       [ 1,  2,  4],\n",
       "       [ 1,  3,  9],\n",
       "       [ 1,  4, 16]], dtype=int32)"
      ]
     },
     "execution_count": 7,
     "metadata": {},
     "output_type": "execute_result"
    }
   ],
   "source": [
    "Alex_Theo(m,3)"
   ]
  },
  {
   "cell_type": "code",
   "execution_count": null,
   "metadata": {},
   "outputs": [],
   "source": []
  },
  {
   "cell_type": "code",
   "execution_count": 8,
   "metadata": {},
   "outputs": [],
   "source": [
    "#                     Given a sequence of n values x1, x2, ..., xn and a window size k>0, \n",
    "#                     the k-th moving average of  the given sequence is defined as follows: \n",
    "#                     The moving average sequence has n-k+1 elements as shown below. \n",
    "#                     The moving averages with k=4 of a ten-value sequence (n=10) is shown below \n",
    "#                     i 1 2 3 4 5 6 7 8 9 10 \n",
    "#                     ===== == == == == == == == == == == \n",
    "#                     Input 10 20 30 40 50 60 70 80 90 100  \n",
    "#                     y1 25 = (10+20+30+40)/4 \n",
    "#                     y2 35 = (20+30+40+50)/4 \n",
    "#                     y3 45 = (30+40+50+60)/4 \n",
    "#                     y4 55 = (40+50+60+70)/4 \n",
    "#                     y5 65 = (50+60+70+80)/4 \n",
    "#                     y6 75 = (60+70+80+90)/4 \n",
    "#                     y7 85 = (70+80+90+100)/4 \n",
    "#                     Thus, the moving average sequence has n-k+1=10-4+1=7 values.\n",
    "\n",
    "#                     Question: Write a function to find moving average in an array over a window:  \n",
    "#                             Test it over [3, 5, 7, 2, 8, 10, 11, 65, 72, 81, 99, 100, 150] and window of 3. "
   ]
  },
  {
   "cell_type": "code",
   "execution_count": 9,
   "metadata": {},
   "outputs": [],
   "source": [
    "def mov_avg(p,k):\n",
    "    '''give a list and window number\n",
    "        returns a new list of moving averages\n",
    "    '''\n",
    "    p = np.array(p)\n",
    "    l=[]\n",
    "    for i in range(len(p)-k+1):\n",
    "        l.append(round(np.average(p[i:i+k]),2))\n",
    "    return l\n",
    "    "
   ]
  },
  {
   "cell_type": "code",
   "execution_count": 10,
   "metadata": {},
   "outputs": [
    {
     "data": {
      "text/plain": [
       "[5.0, 4.67, 5.67, 6.67, 9.67, 28.67, 49.33, 72.67, 84.0, 93.33, 116.33]"
      ]
     },
     "execution_count": 10,
     "metadata": {},
     "output_type": "execute_result"
    }
   ],
   "source": [
    "mov_avg([3, 5, 7, 2, 8, 10, 11, 65, 72, 81, 99, 100, 150],3)"
   ]
  },
  {
   "cell_type": "code",
   "execution_count": 11,
   "metadata": {},
   "outputs": [
    {
     "data": {
      "text/plain": [
       "[25.0, 35.0, 45.0, 55.0, 65.0, 75.0, 85.0]"
      ]
     },
     "execution_count": 11,
     "metadata": {},
     "output_type": "execute_result"
    }
   ],
   "source": [
    "b = np.arange(10,110,10)\n",
    "mov_avg(b,4)"
   ]
  },
  {
   "cell_type": "code",
   "execution_count": null,
   "metadata": {},
   "outputs": [],
   "source": []
  }
 ],
 "metadata": {
  "kernelspec": {
   "display_name": "Python 3",
   "language": "python",
   "name": "python3"
  },
  "language_info": {
   "codemirror_mode": {
    "name": "ipython",
    "version": 3
   },
   "file_extension": ".py",
   "mimetype": "text/x-python",
   "name": "python",
   "nbconvert_exporter": "python",
   "pygments_lexer": "ipython3",
   "version": "3.7.3"
  }
 },
 "nbformat": 4,
 "nbformat_minor": 2
}
